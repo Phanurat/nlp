{
 "cells": [
  {
   "cell_type": "code",
   "execution_count": 1,
   "metadata": {},
   "outputs": [],
   "source": [
    "import pythainlp"
   ]
  },
  {
   "cell_type": "code",
   "execution_count": 2,
   "metadata": {},
   "outputs": [],
   "source": [
    "from pythainlp.tag import pos_tag"
   ]
  },
  {
   "cell_type": "code",
   "execution_count": 3,
   "metadata": {},
   "outputs": [],
   "source": [
    "from pythainlp.tokenize import word_tokenize"
   ]
  },
  {
   "cell_type": "code",
   "execution_count": 9,
   "metadata": {},
   "outputs": [],
   "source": [
    "text = \"สวัสดีครับ ผมชื่อชัชวาล\"\n",
    "tokens = word_tokenize(text, engine='newmm')"
   ]
  },
  {
   "cell_type": "code",
   "execution_count": 12,
   "metadata": {},
   "outputs": [
    {
     "name": "stdout",
     "output_type": "stream",
     "text": [
      "['สวัสดี', 'ครับ', ' ', 'ผม', 'ชื่อ', 'ชัชวาล']\n"
     ]
    }
   ],
   "source": [
    "print(tokens)"
   ]
  },
  {
   "cell_type": "code",
   "execution_count": 14,
   "metadata": {},
   "outputs": [],
   "source": [
    "def find_subject_name(text):\n",
    "    tokens = word_tokenize(text, engine='newmm')\n",
    "    pos_tags = pos_tag(tokens)\n",
    "\n",
    "    subject_name = []\n",
    "    found_subject = False\n",
    "\n",
    "    for word, pos in pos_tags:\n",
    "        if pos in ['NOUN', 'PRON']:\n",
    "            # Assume the first NOUN or PRON is the subject\n",
    "            subject_name.append(word)\n",
    "            found_subject = True\n",
    "        elif found_subject and pos in ['NOUN']:\n",
    "            # Continue appending if it's part of the subject's full name\n",
    "            subject_name.append(word)\n",
    "        elif found_subject:\n",
    "            # Stop if we have found the subject and encounter a non-NOUN word\n",
    "            break\n",
    "    \n",
    "    return \" \".join(subject_name)"
   ]
  },
  {
   "cell_type": "code",
   "execution_count": 15,
   "metadata": {},
   "outputs": [
    {
     "name": "stdout",
     "output_type": "stream",
     "text": [
      "ประธานของประโยคคือ: \n"
     ]
    }
   ],
   "source": [
    "text = \"สวัสดีครับ ผมชื่อชัชวาล\"\n",
    "subject_name = find_subject_name(text)\n",
    "print(f\"ประธานของประโยคคือ: {subject_name}\")"
   ]
  }
 ],
 "metadata": {
  "kernelspec": {
   "display_name": "ml-py",
   "language": "python",
   "name": "python3"
  },
  "language_info": {
   "codemirror_mode": {
    "name": "ipython",
    "version": 3
   },
   "file_extension": ".py",
   "mimetype": "text/x-python",
   "name": "python",
   "nbconvert_exporter": "python",
   "pygments_lexer": "ipython3",
   "version": "3.9.19"
  }
 },
 "nbformat": 4,
 "nbformat_minor": 2
}
