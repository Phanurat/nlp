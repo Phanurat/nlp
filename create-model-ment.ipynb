{
 "cells": [
  {
   "cell_type": "code",
   "execution_count": 1,
   "metadata": {},
   "outputs": [],
   "source": [
    "import pandas as pd"
   ]
  },
  {
   "cell_type": "code",
   "execution_count": 2,
   "metadata": {},
   "outputs": [],
   "source": [
    "# สร้าง DataFrame สำหรับ positive และ negative โพสทิฟ\n",
    "positive_ment = [...]  # รายการข้อความโพสทิฟที่มี sentiment เป็น positive\n",
    "negative_ment = [...]  # รายการข้อความโพสทิฟที่มี sentiment เป็น negative"
   ]
  },
  {
   "cell_type": "code",
   "execution_count": 3,
   "metadata": {},
   "outputs": [],
   "source": [
    "# สร้าง DataFrame สำหรับ positive โพสทิฟ\n",
    "df_positive = pd.DataFrame({'comment': positive_ment, 'sentiment': 'positive'})\n",
    "\n",
    "# สร้าง DataFrame สำหรับ negative โพสทิฟ\n",
    "df_negative = pd.DataFrame({'comment': negative_ment, 'sentiment': 'negative'})"
   ]
  },
  {
   "cell_type": "code",
   "execution_count": 4,
   "metadata": {},
   "outputs": [],
   "source": [
    "# รวม DataFrame สำหรับ positive และ negative โพสทิฟเข้าด้วยกัน\n",
    "df_all = pd.concat([df_positive, df_negative], ignore_index=True)"
   ]
  },
  {
   "cell_type": "code",
   "execution_count": 5,
   "metadata": {},
   "outputs": [],
   "source": [
    "# บันทึก DataFrame เป็นไฟล์ CSV\n",
    "df_all.to_csv('comments.csv', index=False)"
   ]
  }
 ],
 "metadata": {
  "kernelspec": {
   "display_name": "ml-py",
   "language": "python",
   "name": "python3"
  },
  "language_info": {
   "codemirror_mode": {
    "name": "ipython",
    "version": 3
   },
   "file_extension": ".py",
   "mimetype": "text/x-python",
   "name": "python",
   "nbconvert_exporter": "python",
   "pygments_lexer": "ipython3",
   "version": "3.9.19"
  }
 },
 "nbformat": 4,
 "nbformat_minor": 2
}
