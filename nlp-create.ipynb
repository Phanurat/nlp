{
 "cells": [
  {
   "cell_type": "code",
   "execution_count": 1,
   "metadata": {},
   "outputs": [],
   "source": [
    "import pandas as pd"
   ]
  },
  {
   "cell_type": "code",
   "execution_count": 2,
   "metadata": {},
   "outputs": [],
   "source": [
    "from transformers import pipeline\n"
   ]
  },
  {
   "cell_type": "code",
   "execution_count": 4,
   "metadata": {},
   "outputs": [],
   "source": [
    "df = pd.read_csv('posts-quest.csv')"
   ]
  },
  {
   "cell_type": "code",
   "execution_count": 5,
   "metadata": {},
   "outputs": [
    {
     "data": {
      "text/html": [
       "<div>\n",
       "<style scoped>\n",
       "    .dataframe tbody tr th:only-of-type {\n",
       "        vertical-align: middle;\n",
       "    }\n",
       "\n",
       "    .dataframe tbody tr th {\n",
       "        vertical-align: top;\n",
       "    }\n",
       "\n",
       "    .dataframe thead th {\n",
       "        text-align: right;\n",
       "    }\n",
       "</style>\n",
       "<table border=\"1\" class=\"dataframe\">\n",
       "  <thead>\n",
       "    <tr style=\"text-align: right;\">\n",
       "      <th></th>\n",
       "      <th>Posts Facebook</th>\n",
       "      <th>sentiment</th>\n",
       "    </tr>\n",
       "  </thead>\n",
       "  <tbody>\n",
       "    <tr>\n",
       "      <th>0</th>\n",
       "      <td>ยอดเยี่ยมค่ะ ราคาเหมาะสม บอกต่อได้เลยค่ะ</td>\n",
       "      <td>positive</td>\n",
       "    </tr>\n",
       "    <tr>\n",
       "      <th>1</th>\n",
       "      <td>สวยค่ะ เหมือนในรูปเลย ชอบค่ะ ส่งของไวมากก</td>\n",
       "      <td>positive</td>\n",
       "    </tr>\n",
       "    <tr>\n",
       "      <th>2</th>\n",
       "      <td>ใช้ดีค่ะหน้านุ่มและขาวขึ้น</td>\n",
       "      <td>positive</td>\n",
       "    </tr>\n",
       "    <tr>\n",
       "      <th>3</th>\n",
       "      <td>จัดส่งเร็วมาก สะดวกดี ของจริงขนาดใหญ่กว่าที่คิ...</td>\n",
       "      <td>positive</td>\n",
       "    </tr>\n",
       "    <tr>\n",
       "      <th>4</th>\n",
       "      <td>เกลียด ชอบหลอกให้สั่งซื้อ ที่ไหนได้ไม่มีสิ้นค้า</td>\n",
       "      <td>negative</td>\n",
       "    </tr>\n",
       "    <tr>\n",
       "      <th>5</th>\n",
       "      <td>สินค้าด้อยคุณภาพ</td>\n",
       "      <td>negative</td>\n",
       "    </tr>\n",
       "    <tr>\n",
       "      <th>6</th>\n",
       "      <td>สินค้าหมดทำไมไม่แจ้งขึ้นว่าหมดอะ.กดใส่ตะกร้าไป...</td>\n",
       "      <td>negative</td>\n",
       "    </tr>\n",
       "    <tr>\n",
       "      <th>7</th>\n",
       "      <td>อย่าทำแบบนี้กับใครอีกนะค่ะแย่มากค่ะ</td>\n",
       "      <td>negative</td>\n",
       "    </tr>\n",
       "    <tr>\n",
       "      <th>8</th>\n",
       "      <td>คือเเบบผิดหวังมาก เเย่ที่สุดได้ของมาฝาเเตก เเต...</td>\n",
       "      <td>negative</td>\n",
       "    </tr>\n",
       "  </tbody>\n",
       "</table>\n",
       "</div>"
      ],
      "text/plain": [
       "                                      Posts Facebook sentiment\n",
       "0           ยอดเยี่ยมค่ะ ราคาเหมาะสม บอกต่อได้เลยค่ะ  positive\n",
       "1          สวยค่ะ เหมือนในรูปเลย ชอบค่ะ ส่งของไวมากก  positive\n",
       "2                         ใช้ดีค่ะหน้านุ่มและขาวขึ้น  positive\n",
       "3  จัดส่งเร็วมาก สะดวกดี ของจริงขนาดใหญ่กว่าที่คิ...  positive\n",
       "4    เกลียด ชอบหลอกให้สั่งซื้อ ที่ไหนได้ไม่มีสิ้นค้า  negative\n",
       "5                                   สินค้าด้อยคุณภาพ  negative\n",
       "6  สินค้าหมดทำไมไม่แจ้งขึ้นว่าหมดอะ.กดใส่ตะกร้าไป...  negative\n",
       "7                อย่าทำแบบนี้กับใครอีกนะค่ะแย่มากค่ะ  negative\n",
       "8  คือเเบบผิดหวังมาก เเย่ที่สุดได้ของมาฝาเเตก เเต...  negative"
      ]
     },
     "execution_count": 5,
     "metadata": {},
     "output_type": "execute_result"
    }
   ],
   "source": [
    "df"
   ]
  },
  {
   "cell_type": "code",
   "execution_count": 6,
   "metadata": {},
   "outputs": [
    {
     "data": {
      "application/vnd.jupyter.widget-view+json": {
       "model_id": "be3c183ac021463990e45b2675fb5511",
       "version_major": 2,
       "version_minor": 0
      },
      "text/plain": [
       "pytorch_model.bin:   0%|          | 0.00/669M [00:00<?, ?B/s]"
      ]
     },
     "metadata": {},
     "output_type": "display_data"
    },
    {
     "name": "stderr",
     "output_type": "stream",
     "text": [
      "c:\\Users\\Jakkranukoolki\\.conda\\envs\\ml-py\\lib\\site-packages\\huggingface_hub\\file_download.py:157: UserWarning: `huggingface_hub` cache-system uses symlinks by default to efficiently store duplicated files but your machine does not support them in C:\\Users\\Jakkranukoolki\\.cache\\huggingface\\hub\\models--nlptown--bert-base-multilingual-uncased-sentiment. Caching files will still work but in a degraded version that might require more space on your disk. This warning can be disabled by setting the `HF_HUB_DISABLE_SYMLINKS_WARNING` environment variable. For more details, see https://huggingface.co/docs/huggingface_hub/how-to-cache#limitations.\n",
      "To support symlinks on Windows, you either need to activate Developer Mode or to run Python as an administrator. In order to see activate developer mode, see this article: https://docs.microsoft.com/en-us/windows/apps/get-started/enable-your-device-for-development\n",
      "  warnings.warn(message)\n"
     ]
    },
    {
     "data": {
      "application/vnd.jupyter.widget-view+json": {
       "model_id": "7a8c673728144636a04ad86fb347ad06",
       "version_major": 2,
       "version_minor": 0
      },
      "text/plain": [
       "tokenizer_config.json:   0%|          | 0.00/39.0 [00:00<?, ?B/s]"
      ]
     },
     "metadata": {},
     "output_type": "display_data"
    },
    {
     "data": {
      "application/vnd.jupyter.widget-view+json": {
       "model_id": "e9aa7f0c9255417da520fd59be21495d",
       "version_major": 2,
       "version_minor": 0
      },
      "text/plain": [
       "vocab.txt:   0%|          | 0.00/872k [00:00<?, ?B/s]"
      ]
     },
     "metadata": {},
     "output_type": "display_data"
    },
    {
     "data": {
      "application/vnd.jupyter.widget-view+json": {
       "model_id": "ff39eef3b8144fa1b7dea517db2daded",
       "version_major": 2,
       "version_minor": 0
      },
      "text/plain": [
       "special_tokens_map.json:   0%|          | 0.00/112 [00:00<?, ?B/s]"
      ]
     },
     "metadata": {},
     "output_type": "display_data"
    }
   ],
   "source": [
    "try:\n",
    "    sentiment_pipeline = pipeline('sentiment-analysis', model='nlptown/bert-base-multilingual-uncased-sentiment')\n",
    "except Exception as e:\n",
    "    print(f\"Error creating sentiment pipeline: {e}\")\n",
    "    exit()"
   ]
  },
  {
   "cell_type": "code",
   "execution_count": 7,
   "metadata": {},
   "outputs": [],
   "source": [
    "\n",
    "# สร้าง sentiment analysis pipeline ด้วยโมเดลจาก Hugging Face Hub\n",
    "try:\n",
    "    sentiment_pipeline = pipeline('sentiment-analysis', model='nlptown/bert-base-multilingual-uncased-sentiment')\n",
    "except Exception as e:\n",
    "    print(f\"Error creating sentiment pipeline: {e}\")\n",
    "    exit()"
   ]
  },
  {
   "cell_type": "code",
   "execution_count": 10,
   "metadata": {},
   "outputs": [],
   "source": [
    "try:\n",
    "    results = df['Posts Facebook'].apply(lambda x: sentiment_pipeline(x)[0])\n",
    "except Exception as e:\n",
    "    print(f\"Error during sentiment analysis: {e}\")\n",
    "    exit()"
   ]
  },
  {
   "cell_type": "code",
   "execution_count": 11,
   "metadata": {},
   "outputs": [],
   "source": [
    "# แยกผลลัพธ์ของการวิเคราะห์เป็น sentiment และ score\n",
    "df['predicted_sentiment'] = results.apply(lambda x: x['label'])\n",
    "df['sentiment_score'] = results.apply(lambda x: x['score'])"
   ]
  },
  {
   "cell_type": "code",
   "execution_count": 12,
   "metadata": {},
   "outputs": [
    {
     "name": "stdout",
     "output_type": "stream",
     "text": [
      "                                      Posts Facebook sentiment  \\\n",
      "0           ยอดเยี่ยมค่ะ ราคาเหมาะสม บอกต่อได้เลยค่ะ  positive   \n",
      "1          สวยค่ะ เหมือนในรูปเลย ชอบค่ะ ส่งของไวมากก  positive   \n",
      "2                         ใช้ดีค่ะหน้านุ่มและขาวขึ้น  positive   \n",
      "3  จัดส่งเร็วมาก สะดวกดี ของจริงขนาดใหญ่กว่าที่คิ...  positive   \n",
      "4    เกลียด ชอบหลอกให้สั่งซื้อ ที่ไหนได้ไม่มีสิ้นค้า  negative   \n",
      "5                                   สินค้าด้อยคุณภาพ  negative   \n",
      "6  สินค้าหมดทำไมไม่แจ้งขึ้นว่าหมดอะ.กดใส่ตะกร้าไป...  negative   \n",
      "7                อย่าทำแบบนี้กับใครอีกนะค่ะแย่มากค่ะ  negative   \n",
      "8  คือเเบบผิดหวังมาก เเย่ที่สุดได้ของมาฝาเเตก เเต...  negative   \n",
      "\n",
      "  predicted_sentiment  sentiment_score  \n",
      "0             5 stars         0.376133  \n",
      "1             5 stars         0.327987  \n",
      "2             5 stars         0.308578  \n",
      "3             5 stars         0.303438  \n",
      "4             3 stars         0.247466  \n",
      "5             5 stars         0.308578  \n",
      "6              1 star         0.336172  \n",
      "7             5 stars         0.308578  \n",
      "8             5 stars         0.390435  \n"
     ]
    }
   ],
   "source": [
    "print(df)"
   ]
  },
  {
   "cell_type": "code",
   "execution_count": 13,
   "metadata": {},
   "outputs": [],
   "source": [
    "df.to_csv('posts-quest-processed.csv', index=False)"
   ]
  }
 ],
 "metadata": {
  "kernelspec": {
   "display_name": "ml-py",
   "language": "python",
   "name": "python3"
  },
  "language_info": {
   "codemirror_mode": {
    "name": "ipython",
    "version": 3
   },
   "file_extension": ".py",
   "mimetype": "text/x-python",
   "name": "python",
   "nbconvert_exporter": "python",
   "pygments_lexer": "ipython3",
   "version": "3.9.19"
  }
 },
 "nbformat": 4,
 "nbformat_minor": 2
}
