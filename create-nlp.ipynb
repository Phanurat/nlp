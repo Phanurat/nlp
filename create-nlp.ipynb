{
 "cells": [
  {
   "cell_type": "code",
   "execution_count": 1,
   "metadata": {},
   "outputs": [],
   "source": [
    "import tensorflow as tf\n"
   ]
  },
  {
   "cell_type": "code",
   "execution_count": 2,
   "metadata": {},
   "outputs": [],
   "source": [
    "from tensorflow.keras import layers, models\n"
   ]
  },
  {
   "cell_type": "code",
   "execution_count": 3,
   "metadata": {},
   "outputs": [],
   "source": [
    "from pythainlp.tokenize import word_tokenize\n"
   ]
  },
  {
   "cell_type": "code",
   "execution_count": 4,
   "metadata": {},
   "outputs": [],
   "source": [
    "from pythainlp.corpus import thai_stopwords\n"
   ]
  },
  {
   "cell_type": "code",
   "execution_count": 5,
   "metadata": {},
   "outputs": [],
   "source": [
    "from pythainlp.util import normalize\n"
   ]
  },
  {
   "cell_type": "code",
   "execution_count": 6,
   "metadata": {},
   "outputs": [],
   "source": [
    "import numpy as np\n"
   ]
  },
  {
   "cell_type": "code",
   "execution_count": 29,
   "metadata": {},
   "outputs": [],
   "source": [
    "# ข้อมูลตัวอย่าง (เปลี่ยนเป็นข้อมูลข่าวภาษาไทยที่มีคลาสบวกและลบ)\n",
    "texts = [\"ข่าวดี: การวิจัยล่าสุดพบว่าการออกกำลังกายเป็นสิ่งที่ดีต่อสุขภาพ\",\n",
    "         \"ข่าวไม่ดี: การศึกษาล่าสุดพบว่าการนั่งนานๆ อาจทำให้เสี่ยงต่อการเป็นโรคหลอดเลือดในสมอง\",\n",
    "         \"ข่าวไม่ดี: เสียชีวิตอีกแล้ว พันกว่าราย\",\n",
    "         \"ข่าวไม่ดี: เจ็บป่วยยังไม่หาย\"]"
   ]
  },
  {
   "cell_type": "code",
   "execution_count": 30,
   "metadata": {},
   "outputs": [],
   "source": [
    "\n",
    "# สร้างตัวแปรเก็บคำหยุด\n",
    "stopwords = list(thai_stopwords())"
   ]
  },
  {
   "cell_type": "code",
   "execution_count": 31,
   "metadata": {},
   "outputs": [],
   "source": [
    "# สร้างลิสต์เก็บข้อความที่ถูกตัดคำแล้ว\n",
    "tokenized_texts = []"
   ]
  },
  {
   "cell_type": "code",
   "execution_count": 32,
   "metadata": {},
   "outputs": [],
   "source": [
    "# ตัดคำและทำความสะอาดข้อมูล\n",
    "for text in texts:\n",
    "    tokens = word_tokenize(normalize(text))\n",
    "    tokens = [token for token in tokens if token not in stopwords]\n",
    "    tokenized_texts.append(tokens)"
   ]
  },
  {
   "cell_type": "code",
   "execution_count": 33,
   "metadata": {},
   "outputs": [],
   "source": [
    "# สร้าง dictionary ของคำศัพท์\n",
    "word_index = {}\n",
    "index = 1\n",
    "for tokens in tokenized_texts:\n",
    "    for token in tokens:\n",
    "        if token not in word_index:\n",
    "            word_index[token] = index\n",
    "            index += 1"
   ]
  },
  {
   "cell_type": "code",
   "execution_count": 34,
   "metadata": {},
   "outputs": [],
   "source": [
    "# แปลงข้อความเป็นลิสต์ของตัวเลขโดยใช้ dictionary ของคำศัพท์\n",
    "sequences = []\n",
    "for tokens in tokenized_texts:\n",
    "    sequence = [word_index[token] for token in tokens]\n",
    "    sequences.append(sequence)\n"
   ]
  },
  {
   "cell_type": "code",
   "execution_count": 35,
   "metadata": {},
   "outputs": [],
   "source": [
    "# สร้างข้อมูลเข้าให้เป็นขนาดเท่ากัน\n",
    "max_len = max(len(sequence) for sequence in sequences)\n",
    "padded_sequences = tf.keras.preprocessing.sequence.pad_sequences(sequences, maxlen=max_len)\n"
   ]
  },
  {
   "cell_type": "code",
   "execution_count": 37,
   "metadata": {},
   "outputs": [],
   "source": [
    "# สร้างโมเดล\n",
    "model = models.Sequential([\n",
    "    layers.Embedding(input_dim=len(word_index)+1, output_dim=16, input_length=max_len),\n",
    "    layers.GlobalAveragePooling1D(),\n",
    "    layers.Dense(16, activation='relu'),\n",
    "    layers.Dense(1, activation='sigmoid')\n",
    "])"
   ]
  },
  {
   "cell_type": "code",
   "execution_count": 38,
   "metadata": {},
   "outputs": [],
   "source": [
    "\n",
    "# คอมไพล์โมเดล\n",
    "model.compile(optimizer='adam',\n",
    "              loss='binary_crossentropy',\n",
    "              metrics=['accuracy'])"
   ]
  },
  {
   "cell_type": "code",
   "execution_count": 40,
   "metadata": {},
   "outputs": [
    {
     "ename": "ValueError",
     "evalue": "Data cardinality is ambiguous. Make sure all arrays contain the same number of samples.'x' sizes: 4\n'y' sizes: 2\n",
     "output_type": "error",
     "traceback": [
      "\u001b[1;31m---------------------------------------------------------------------------\u001b[0m",
      "\u001b[1;31mValueError\u001b[0m                                Traceback (most recent call last)",
      "Cell \u001b[1;32mIn[40], line 3\u001b[0m\n\u001b[0;32m      1\u001b[0m \u001b[38;5;66;03m# ฝึกโมเดล\u001b[39;00m\n\u001b[0;32m      2\u001b[0m labels \u001b[38;5;241m=\u001b[39m np\u001b[38;5;241m.\u001b[39marray([\u001b[38;5;241m3\u001b[39m, \u001b[38;5;241m0\u001b[39m])  \u001b[38;5;66;03m# เปลี่ยนตามคลาสของข้อมูลข่าว\u001b[39;00m\n\u001b[1;32m----> 3\u001b[0m \u001b[43mmodel\u001b[49m\u001b[38;5;241;43m.\u001b[39;49m\u001b[43mfit\u001b[49m\u001b[43m(\u001b[49m\u001b[43mpadded_sequences\u001b[49m\u001b[43m,\u001b[49m\u001b[43m \u001b[49m\u001b[43mlabels\u001b[49m\u001b[43m,\u001b[49m\u001b[43m \u001b[49m\u001b[43mepochs\u001b[49m\u001b[38;5;241;43m=\u001b[39;49m\u001b[38;5;241;43m10\u001b[39;49m\u001b[43m,\u001b[49m\u001b[43m \u001b[49m\u001b[43mbatch_size\u001b[49m\u001b[38;5;241;43m=\u001b[39;49m\u001b[38;5;241;43m32\u001b[39;49m\u001b[43m)\u001b[49m\n",
      "File \u001b[1;32mc:\\Users\\Jakkranukoolki\\.conda\\envs\\ml-py\\lib\\site-packages\\keras\\src\\utils\\traceback_utils.py:122\u001b[0m, in \u001b[0;36mfilter_traceback.<locals>.error_handler\u001b[1;34m(*args, **kwargs)\u001b[0m\n\u001b[0;32m    119\u001b[0m     filtered_tb \u001b[38;5;241m=\u001b[39m _process_traceback_frames(e\u001b[38;5;241m.\u001b[39m__traceback__)\n\u001b[0;32m    120\u001b[0m     \u001b[38;5;66;03m# To get the full stack trace, call:\u001b[39;00m\n\u001b[0;32m    121\u001b[0m     \u001b[38;5;66;03m# `keras.config.disable_traceback_filtering()`\u001b[39;00m\n\u001b[1;32m--> 122\u001b[0m     \u001b[38;5;28;01mraise\u001b[39;00m e\u001b[38;5;241m.\u001b[39mwith_traceback(filtered_tb) \u001b[38;5;28;01mfrom\u001b[39;00m \u001b[38;5;28;01mNone\u001b[39;00m\n\u001b[0;32m    123\u001b[0m \u001b[38;5;28;01mfinally\u001b[39;00m:\n\u001b[0;32m    124\u001b[0m     \u001b[38;5;28;01mdel\u001b[39;00m filtered_tb\n",
      "File \u001b[1;32mc:\\Users\\Jakkranukoolki\\.conda\\envs\\ml-py\\lib\\site-packages\\keras\\src\\trainers\\data_adapters\\data_adapter_utils.py:114\u001b[0m, in \u001b[0;36mcheck_data_cardinality\u001b[1;34m(data)\u001b[0m\n\u001b[0;32m    110\u001b[0m     sizes \u001b[38;5;241m=\u001b[39m \u001b[38;5;124m\"\u001b[39m\u001b[38;5;124m, \u001b[39m\u001b[38;5;124m\"\u001b[39m\u001b[38;5;241m.\u001b[39mjoin(\n\u001b[0;32m    111\u001b[0m         \u001b[38;5;28mstr\u001b[39m(i\u001b[38;5;241m.\u001b[39mshape[\u001b[38;5;241m0\u001b[39m]) \u001b[38;5;28;01mfor\u001b[39;00m i \u001b[38;5;129;01min\u001b[39;00m tree\u001b[38;5;241m.\u001b[39mflatten(single_data)\n\u001b[0;32m    112\u001b[0m     )\n\u001b[0;32m    113\u001b[0m     msg \u001b[38;5;241m+\u001b[39m\u001b[38;5;241m=\u001b[39m \u001b[38;5;124mf\u001b[39m\u001b[38;5;124m\"\u001b[39m\u001b[38;5;124m'\u001b[39m\u001b[38;5;132;01m{\u001b[39;00mlabel\u001b[38;5;132;01m}\u001b[39;00m\u001b[38;5;124m'\u001b[39m\u001b[38;5;124m sizes: \u001b[39m\u001b[38;5;132;01m{\u001b[39;00msizes\u001b[38;5;132;01m}\u001b[39;00m\u001b[38;5;130;01m\\n\u001b[39;00m\u001b[38;5;124m\"\u001b[39m\n\u001b[1;32m--> 114\u001b[0m \u001b[38;5;28;01mraise\u001b[39;00m \u001b[38;5;167;01mValueError\u001b[39;00m(msg)\n",
      "\u001b[1;31mValueError\u001b[0m: Data cardinality is ambiguous. Make sure all arrays contain the same number of samples.'x' sizes: 4\n'y' sizes: 2\n"
     ]
    }
   ],
   "source": [
    "# ฝึกโมเดล\n",
    "labels = np.array([1, 0])  # เปลี่ยนตามคลาสของข้อมูลข่าว\n",
    "model.fit(padded_sequences, labels, epochs=10, batch_size=32)\n"
   ]
  },
  {
   "cell_type": "code",
   "execution_count": 28,
   "metadata": {},
   "outputs": [
    {
     "name": "stdout",
     "output_type": "stream",
     "text": [
      "\u001b[1m1/1\u001b[0m \u001b[32m━━━━━━━━━━━━━━━━━━━━\u001b[0m\u001b[37m\u001b[0m \u001b[1m0s\u001b[0m 30ms/step\n",
      "ซึ่งค่านี้อยู่ในช่วงระหว่าง 0 ถึง 1 โดยค่ามากกว่า 0.5 หมายถึงโมเดลคาดเดาว่าข่าวนั้นเป็นข่าวลบ (หรือคลาส 0) ในขณะที่ค่าน้อยกว่า 0.5 หมายถึงโมเดลคาดเดาว่าข่าวนั้นเป็นข่าวบวก (หรือคลาส 1)\n",
      "Predictions: [[0.50901484]]\n"
     ]
    }
   ],
   "source": [
    "# ทดสอบโมเดล\n",
    "test_texts = [\"ข่าวไม่ดี: เสียชีวิตไปเกือบร้อย\"]\n",
    "test_sequences = []\n",
    "for test_text in test_texts:\n",
    "    tokens = word_tokenize(normalize(test_text))\n",
    "    tokens = [token for token in tokens if token not in stopwords]\n",
    "    sequence = [word_index[token] for token in tokens if token in word_index]\n",
    "    test_sequences.append(sequence)\n",
    "\n",
    "# ตรวจสอบว่ามี tokens ใน test_text หรือไม่\n",
    "if len(test_sequences) > 0:\n",
    "    test_padded_sequences = tf.keras.preprocessing.sequence.pad_sequences(test_sequences, maxlen=max_len)\n",
    "    predictions = model.predict(test_padded_sequences)\n",
    "    print(\"ซึ่งค่านี้อยู่ในช่วงระหว่าง 0 ถึง 1 โดยค่ามากกว่า 0.5 หมายถึงโมเดลคาดเดาว่าข่าวนั้นเป็นข่าวลบ (หรือคลาส 0) ในขณะที่ค่าน้อยกว่า 0.5 หมายถึงโมเดลคาดเดาว่าข่าวนั้นเป็นข่าวบวก (หรือคลาส 1)\")\n",
    "    print(\"Predictions:\", predictions)\n",
    "else:\n",
    "    print(\"No valid tokens found in the test text.\")\n"
   ]
  }
 ],
 "metadata": {
  "kernelspec": {
   "display_name": "ml-py",
   "language": "python",
   "name": "python3"
  },
  "language_info": {
   "codemirror_mode": {
    "name": "ipython",
    "version": 3
   },
   "file_extension": ".py",
   "mimetype": "text/x-python",
   "name": "python",
   "nbconvert_exporter": "python",
   "pygments_lexer": "ipython3",
   "version": "3.9.19"
  }
 },
 "nbformat": 4,
 "nbformat_minor": 2
}
